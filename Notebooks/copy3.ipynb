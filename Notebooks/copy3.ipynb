{
 "cells": [
  {
   "cell_type": "code",
   "execution_count": 1,
   "metadata": {},
   "outputs": [],
   "source": [
    "import pandas as pd\n",
    "import os\n",
    "import glob\n",
    "import numpy as np\n",
    "import itertools as IT\n",
    "import csv\n",
    "import csv as cv \n",
    "import matplotlib.pyplot as plt\n",
    "from pathlib import Path\n",
    "import tkinter\n",
    "import tkinter.filedialog\n",
    "from numpy import genfromtxt\n",
    "from pathlib import Path\n",
    "import torch\n",
    "import torchvision\n",
    "from pylab import *\n",
    "import pylab as p\n",
    "import itertools\n",
    "from itertools import product\n",
    "from collections import Counter\n",
    "from scipy import stats"
   ]
  },
  {
   "cell_type": "code",
   "execution_count": 3,
   "metadata": {},
   "outputs": [],
   "source": [
    "path = 'C:\\\\Users\\\\makn0023\\\\Desktop\\\\Thesis\\\\PRData'\n",
    "os.chdir(path)"
   ]
  },
  {
   "cell_type": "code",
   "execution_count": 4,
   "metadata": {},
   "outputs": [
    {
     "name": "stdout",
     "output_type": "stream",
     "text": [
      "[]\n"
     ]
    }
   ],
   "source": [
    "p = Path(r\"C:\\\\Users\\\\makn0023\\\\Desktop\\\\Thesis\\\\PRData\")\n",
    "data = {}\n",
    "datac = []\n",
    "print(datac)\n",
    "for i in range(0,60):\n",
    "    try:\n",
    "        f = p / f\"PR_LOD_0_0.0001_{i}.csv\"\n",
    "        data[i]=pd.read_csv(f)\n",
    "        c = data[i][\"percentRank\"].iloc[-1]\n",
    "        datac.append(c)\n",
    "#         dfa = df[\"percentRank\"][-1]\n",
    "    except IOError:\n",
    "       pass\n",
    "\n",
    "# df = pd.concat(data)\n",
    "df0_0001=datac"
   ]
  },
  {
   "cell_type": "code",
   "execution_count": 5,
   "metadata": {},
   "outputs": [
    {
     "name": "stdout",
     "output_type": "stream",
     "text": [
      "[]\n"
     ]
    }
   ],
   "source": [
    "p = Path(r\"C:\\\\Users\\\\makn0023\\\\Desktop\\\\Thesis\\\\PRData\")\n",
    "data = {}\n",
    "datac = []\n",
    "print(datac)\n",
    "for i in range(0,60):\n",
    "    try:\n",
    "        f = p / f\"PR_LOD_0_0.001_{i}.csv\"\n",
    "        data[i]=pd.read_csv(f)\n",
    "        c = data[i][\"percentRank\"].iloc[-1]\n",
    "        datac.append(c)\n",
    "    except IOError:\n",
    "       pass\n",
    "\n",
    "# df = pd.concat(data)\n",
    "df0_001=datac"
   ]
  },
  {
   "cell_type": "code",
   "execution_count": 6,
   "metadata": {},
   "outputs": [
    {
     "name": "stdout",
     "output_type": "stream",
     "text": [
      "[]\n"
     ]
    }
   ],
   "source": [
    "p = Path(r\"C:\\\\Users\\\\makn0023\\\\Desktop\\\\Thesis\\\\PRData\")\n",
    "data = {}\n",
    "datac = []\n",
    "print(datac)\n",
    "for i in range(0,60):\n",
    "    try:\n",
    "        f = p / f\"PR_LOD_0_0.01_{i}.csv\"\n",
    "        data[i]=pd.read_csv(f)\n",
    "        c = data[i][\"percentRank\"].iloc[-1]\n",
    "        datac.append(c)\n",
    "    except IOError:\n",
    "       pass\n",
    "\n",
    "# df = pd.concat(data)\n",
    "df0_01=datac"
   ]
  },
  {
   "cell_type": "code",
   "execution_count": 7,
   "metadata": {},
   "outputs": [
    {
     "name": "stdout",
     "output_type": "stream",
     "text": [
      "[]\n"
     ]
    }
   ],
   "source": [
    "\n",
    "p = Path(r\"C:\\\\Users\\\\makn0023\\\\Desktop\\\\Thesis\\\\PRData\")\n",
    "data = {}\n",
    "datac = []\n",
    "print(datac)\n",
    "for i in range(0,60):\n",
    "    try:\n",
    "        f = p / f\"PR_LOD_0_0.1_{i}.csv\"\n",
    "        data[i]=pd.read_csv(f)\n",
    "        c = data[i][\"percentRank\"].iloc[-1]\n",
    "        datac.append(c)\n",
    "    except IOError:\n",
    "       pass\n",
    "\n",
    "# df = pd.concat(data)\n",
    "df0_1=datac"
   ]
  },
  {
   "cell_type": "code",
   "execution_count": 8,
   "metadata": {},
   "outputs": [
    {
     "name": "stdout",
     "output_type": "stream",
     "text": [
      "[]\n"
     ]
    }
   ],
   "source": [
    "p = Path(r\"C:\\\\Users\\\\makn0023\\\\Desktop\\\\Thesis\\\\PRData\")\n",
    "data = {}\n",
    "datac = []\n",
    "print(datac)\n",
    "for i in range(0,60):\n",
    "    try:\n",
    "        f = p / f\"PR_LOD_0_0.0_{i}.csv\"\n",
    "        data[i]=pd.read_csv(f)\n",
    "        c = data[i][\"percentRank\"].iloc[-1]\n",
    "        datac.append(c)\n",
    "    except IOError:\n",
    "       pass\n",
    "\n",
    "# df = pd.concat(data)\n",
    "df0_0=datac"
   ]
  },
  {
   "cell_type": "code",
   "execution_count": 9,
   "metadata": {},
   "outputs": [
    {
     "data": {
      "text/plain": [
       "[0.4244537353515625,\n",
       " 0.5649261474609375,\n",
       " 0.4637298583984375,\n",
       " 0.9509429931640624,\n",
       " 0.9703369140625,\n",
       " 0.4446868896484375,\n",
       " 0.9981689453125,\n",
       " 0.8441162109375,\n",
       " 0.4967498779296875,\n",
       " 0.5176849365234375,\n",
       " 0.48663330078125,\n",
       " 0.7636260986328125,\n",
       " 0.9338836669921876,\n",
       " 0.9999847412109376,\n",
       " 0.9187774658203124,\n",
       " 0.7703857421875,\n",
       " 0.727752685546875,\n",
       " 0.993896484375]"
      ]
     },
     "execution_count": 9,
     "metadata": {},
     "output_type": "execute_result"
    }
   ],
   "source": [
    "df0_0"
   ]
  },
  {
   "cell_type": "code",
   "execution_count": 10,
   "metadata": {},
   "outputs": [
    {
     "name": "stdout",
     "output_type": "stream",
     "text": [
      "[]\n"
     ]
    }
   ],
   "source": [
    "p = Path(r\"C:\\\\Users\\\\makn0023\\\\Desktop\\\\Thesis\\\\PRData\")\n",
    "data = {}\n",
    "datac = []\n",
    "print(datac)\n",
    "for i in range(0,60):\n",
    "    try:\n",
    "        f = p / f\"PR_LOD_1_0.0001_{i}.csv\"\n",
    "        data[i]=pd.read_csv(f)\n",
    "        c = data[i][\"percentRank\"].iloc[-1]\n",
    "        datac.append(c)\n",
    "    except IOError:\n",
    "       pass\n",
    "\n",
    "# df = pd.concat(data)\n",
    "df1_0001=datac"
   ]
  },
  {
   "cell_type": "code",
   "execution_count": 11,
   "metadata": {},
   "outputs": [
    {
     "name": "stdout",
     "output_type": "stream",
     "text": [
      "[]\n"
     ]
    }
   ],
   "source": [
    "p = Path(r\"C:\\\\Users\\\\makn0023\\\\Desktop\\\\Thesis\\\\PRData\")\n",
    "data = {}\n",
    "datac = []\n",
    "print(datac)\n",
    "for i in range(0,60):\n",
    "    try:\n",
    "        f = p / f\"PR_LOD_1_0.001_{i}.csv\"\n",
    "        data[i]=pd.read_csv(f)\n",
    "        c = data[i][\"percentRank\"].iloc[-1]\n",
    "        datac.append(c)\n",
    "    except IOError:\n",
    "       pass\n",
    "\n",
    "# df = pd.concat(data)\n",
    "df1_001=datac"
   ]
  },
  {
   "cell_type": "code",
   "execution_count": 12,
   "metadata": {},
   "outputs": [
    {
     "name": "stdout",
     "output_type": "stream",
     "text": [
      "[]\n"
     ]
    }
   ],
   "source": [
    "p = Path(r\"C:\\\\Users\\\\makn0023\\\\Desktop\\\\Thesis\\\\PRData\")\n",
    "data = {}\n",
    "datac = []\n",
    "print(datac)\n",
    "for i in range(0,60):\n",
    "    try:\n",
    "        f = p / f\"PR_LOD_1_0.01_{i}.csv\"\n",
    "        data[i]=pd.read_csv(f)\n",
    "        c = data[i][\"percentRank\"].iloc[-1]\n",
    "        datac.append(c)\n",
    "    except IOError:\n",
    "       pass\n",
    "\n",
    "# df = pd.concat(data)\n",
    "df1_01=datac"
   ]
  },
  {
   "cell_type": "code",
   "execution_count": 13,
   "metadata": {},
   "outputs": [
    {
     "name": "stdout",
     "output_type": "stream",
     "text": [
      "[]\n"
     ]
    }
   ],
   "source": [
    "\n",
    "p = Path(r\"C:\\\\Users\\\\makn0023\\\\Desktop\\\\Thesis\\\\PRData\")\n",
    "data = {}\n",
    "datac = []\n",
    "print(datac)\n",
    "for i in range(0,60):\n",
    "    try:\n",
    "        f = p / f\"PR_LOD_1_0.1_{i}.csv\"\n",
    "        data[i]=pd.read_csv(f)\n",
    "        c = data[i][\"percentRank\"].iloc[-1]\n",
    "        datac.append(c)\n",
    "    except IOError:\n",
    "       pass\n",
    "\n",
    "# df = pd.concat(data)\n",
    "df1_1=datac"
   ]
  },
  {
   "cell_type": "code",
   "execution_count": 14,
   "metadata": {},
   "outputs": [
    {
     "name": "stdout",
     "output_type": "stream",
     "text": [
      "[]\n"
     ]
    }
   ],
   "source": [
    "p = Path(r\"C:\\\\Users\\\\makn0023\\\\Desktop\\\\Thesis\\\\PRData\")\n",
    "data = {}\n",
    "datac = []\n",
    "print(datac)\n",
    "for i in range(0,60):\n",
    "    try:\n",
    "        f = p / f\"PR_LOD_1_0.0_{i}.csv\"\n",
    "        data[i]=pd.read_csv(f)\n",
    "        c = data[i][\"percentRank\"].iloc[-1]\n",
    "        datac.append(c)\n",
    "    except IOError:\n",
    "       pass\n",
    "\n",
    "# df = pd.concat(data)\n",
    "df1_0=datac"
   ]
  },
  {
   "cell_type": "code",
   "execution_count": 15,
   "metadata": {},
   "outputs": [
    {
     "name": "stdout",
     "output_type": "stream",
     "text": [
      "[]\n"
     ]
    }
   ],
   "source": [
    "p = Path(r\"C:\\\\Users\\\\makn0023\\\\Desktop\\\\Thesis\\\\PRData\")\n",
    "data = {}\n",
    "datac = []\n",
    "print(datac)\n",
    "for i in range(0,60):\n",
    "    try:\n",
    "        f = p / f\"PR_LOD_2_0.0001_{i}.csv\"\n",
    "        data[i]=pd.read_csv(f)\n",
    "        c = data[i][\"percentRank\"].iloc[-1]\n",
    "        datac.append(c)\n",
    "    except IOError:\n",
    "       pass\n",
    "\n",
    "# df = pd.concat(data)\n",
    "df2_0001=datac"
   ]
  },
  {
   "cell_type": "code",
   "execution_count": 16,
   "metadata": {},
   "outputs": [
    {
     "name": "stdout",
     "output_type": "stream",
     "text": [
      "[]\n"
     ]
    }
   ],
   "source": [
    "\n",
    "p = Path(r\"C:\\\\Users\\\\makn0023\\\\Desktop\\\\Thesis\\\\PRData\")\n",
    "data = {}\n",
    "datac = []\n",
    "print(datac)\n",
    "for i in range(0,60):\n",
    "    try:\n",
    "        f = p / f\"PR_LOD_2_0.001_{i}.csv\"\n",
    "        data[i]=pd.read_csv(f)\n",
    "        c = data[i][\"percentRank\"].iloc[-1]\n",
    "        datac.append(c)\n",
    "    except IOError:\n",
    "       pass\n",
    "\n",
    "# df = pd.concat(data)\n",
    "df2_001=datac\n"
   ]
  },
  {
   "cell_type": "code",
   "execution_count": 17,
   "metadata": {},
   "outputs": [
    {
     "name": "stdout",
     "output_type": "stream",
     "text": [
      "[]\n"
     ]
    }
   ],
   "source": [
    "\n",
    "p = Path(r\"C:\\\\Users\\\\makn0023\\\\Desktop\\\\Thesis\\\\PRData\")\n",
    "data = {}\n",
    "datac=[]\n",
    "print(datac)\n",
    "for i in range(0,60):\n",
    "    try:\n",
    "        f = p / f\"PR_LOD_2_0.01_{i}.csv\"\n",
    "        data[i]=pd.read_csv(f)\n",
    "        c = data[i][\"percentRank\"].iloc[-1]\n",
    "        datac.append(c)\n",
    "    except IOError:\n",
    "       pass\n",
    "\n",
    "# df = pd.concat(data)\n",
    "df2_01=datac"
   ]
  },
  {
   "cell_type": "code",
   "execution_count": 18,
   "metadata": {},
   "outputs": [
    {
     "name": "stdout",
     "output_type": "stream",
     "text": [
      "[]\n"
     ]
    }
   ],
   "source": [
    "\n",
    "p = Path(r\"C:\\\\Users\\\\makn0023\\\\Desktop\\\\Thesis\\\\PRData\")\n",
    "data = {}\n",
    "datac = []\n",
    "print(datac)\n",
    "for i in range(0,60):\n",
    "    try:\n",
    "        f = p / f\"PR_LOD_2_0.1_{i}.csv\"\n",
    "        data[i]=pd.read_csv(f)\n",
    "        c = data[i][\"percentRank\"].iloc[-1]\n",
    "        datac.append(c)\n",
    "    except IOError:\n",
    "       pass\n",
    "\n",
    "# df = pd.concat(data)\n",
    "df2_1=datac"
   ]
  },
  {
   "cell_type": "code",
   "execution_count": 19,
   "metadata": {},
   "outputs": [
    {
     "name": "stdout",
     "output_type": "stream",
     "text": [
      "[]\n"
     ]
    }
   ],
   "source": [
    "\n",
    "p = Path(r\"C:\\\\Users\\\\makn0023\\\\Desktop\\\\Thesis\\\\PRData\")\n",
    "data = {}\n",
    "datac = []\n",
    "print(datac)\n",
    "for i in range(0,60):\n",
    "    try:\n",
    "        f = p / f\"PR_LOD_2_0.0_{i}.csv\"\n",
    "        data[i]=pd.read_csv(f)\n",
    "        c = data[i][\"percentRank\"].iloc[-1]\n",
    "        datac.append(c)\n",
    "    except IOError:\n",
    "       pass\n",
    "\n",
    "# df = pd.concat(data)\n",
    "df2_0=datac"
   ]
  },
  {
   "cell_type": "code",
   "execution_count": 20,
   "metadata": {},
   "outputs": [
    {
     "name": "stdout",
     "output_type": "stream",
     "text": [
      "[]\n"
     ]
    }
   ],
   "source": [
    "p = Path(r\"C:\\\\Users\\\\makn0023\\\\Desktop\\\\Thesis\\\\PRData\")\n",
    "data = {}\n",
    "datac = []\n",
    "print(datac)\n",
    "for i in range(0,60):\n",
    "    try:\n",
    "        f = p / f\"PR_LOD_3_0.0001_{i}.csv\"\n",
    "        data[i]=pd.read_csv(f)\n",
    "        c = data[i][\"percentRank\"].iloc[-1]\n",
    "        datac.append(c)\n",
    "    except IOError:\n",
    "       pass\n",
    "\n",
    "# df = pd.concat(data)\n",
    "df3_0001=datac"
   ]
  },
  {
   "cell_type": "code",
   "execution_count": 21,
   "metadata": {},
   "outputs": [
    {
     "name": "stdout",
     "output_type": "stream",
     "text": [
      "[]\n"
     ]
    }
   ],
   "source": [
    "\n",
    "p = Path(r\"C:\\\\Users\\\\makn0023\\\\Desktop\\\\Thesis\\\\PRData\")\n",
    "data = {}\n",
    "datac = []\n",
    "print(datac)\n",
    "for i in range(0,60):\n",
    "    try:\n",
    "        f = p / f\"PR_LOD_3_0.001_{i}.csv\"\n",
    "        data[i]=pd.read_csv(f)\n",
    "        c = data[i][\"percentRank\"].iloc[-1]\n",
    "        datac.append(c)\n",
    "    except IOError:\n",
    "       pass\n",
    "\n",
    "# df = pd.concat(data)\n",
    "df3_001=datac\n"
   ]
  },
  {
   "cell_type": "code",
   "execution_count": 22,
   "metadata": {},
   "outputs": [
    {
     "name": "stdout",
     "output_type": "stream",
     "text": [
      "[]\n"
     ]
    }
   ],
   "source": [
    "\n",
    "p = Path(r\"C:\\\\Users\\\\makn0023\\\\Desktop\\\\Thesis\\\\PRData\")\n",
    "data = {}\n",
    "datac = []\n",
    "print(datac)\n",
    "for i in range(0,60):\n",
    "    try:\n",
    "        f = p / f\"PR_LOD_3_0.01_{i}.csv\"\n",
    "        data[i]=pd.read_csv(f)\n",
    "        c = data[i][\"percentRank\"].iloc[-1]\n",
    "        datac.append(c)\n",
    "    except IOError:\n",
    "       pass\n",
    "\n",
    "# df = pd.concat(data)\n",
    "df3_01=datac\n"
   ]
  },
  {
   "cell_type": "code",
   "execution_count": 23,
   "metadata": {},
   "outputs": [
    {
     "name": "stdout",
     "output_type": "stream",
     "text": [
      "[]\n"
     ]
    }
   ],
   "source": [
    "\n",
    "p = Path(r\"C:\\\\Users\\\\makn0023\\\\Desktop\\\\Thesis\\\\PRData\")\n",
    "data = {}\n",
    "datac = []\n",
    "print(datac)\n",
    "for i in range(0,60):\n",
    "    try:\n",
    "        f = p / f\"PR_LOD_3_0.1_{i}.csv\"\n",
    "        data[i]=pd.read_csv(f)\n",
    "        c = data[i][\"percentRank\"].iloc[-1]\n",
    "        datac.append(c)\n",
    "    except IOError:\n",
    "       pass\n",
    "\n",
    "# df = pd.concat(data)\n",
    "df3_1=datac"
   ]
  },
  {
   "cell_type": "code",
   "execution_count": 24,
   "metadata": {},
   "outputs": [
    {
     "name": "stdout",
     "output_type": "stream",
     "text": [
      "[]\n"
     ]
    }
   ],
   "source": [
    "\n",
    "p = Path(r\"C:\\\\Users\\\\makn0023\\\\Desktop\\\\Thesis\\\\PRData\")\n",
    "data = {}\n",
    "datac = []\n",
    "print(datac)\n",
    "for i in range(0,60):\n",
    "    try:\n",
    "        f = p / f\"PR_LOD_3_0.0_{i}.csv\"\n",
    "        data[i]=pd.read_csv(f)\n",
    "        c = data[i][\"percentRank\"].iloc[-1]\n",
    "        datac.append(c)\n",
    "    except IOError:\n",
    "       pass\n",
    "\n",
    "# df = pd.concat(data)\n",
    "df3_0=datac"
   ]
  },
  {
   "cell_type": "code",
   "execution_count": 25,
   "metadata": {},
   "outputs": [
    {
     "name": "stdout",
     "output_type": "stream",
     "text": [
      "[]\n"
     ]
    }
   ],
   "source": [
    "p = Path(r\"C:\\\\Users\\\\makn0023\\\\Desktop\\\\Thesis\\\\PRData\")\n",
    "data = {}\n",
    "datac = []\n",
    "print(datac)\n",
    "for i in range(0,60):\n",
    "    try:\n",
    "        f = p / f\"PR_LOD_4_0.0001_{i}.csv\"\n",
    "        data[i]=pd.read_csv(f)\n",
    "        c = data[i][\"percentRank\"].iloc[-1]\n",
    "        datac.append(c)\n",
    "    except IOError:\n",
    "       pass\n",
    "\n",
    "# df = pd.concat(data)\n",
    "df4_0001=datac\n"
   ]
  },
  {
   "cell_type": "code",
   "execution_count": 26,
   "metadata": {},
   "outputs": [
    {
     "name": "stdout",
     "output_type": "stream",
     "text": [
      "[]\n"
     ]
    }
   ],
   "source": [
    "\n",
    "p = Path(r\"C:\\\\Users\\\\makn0023\\\\Desktop\\\\Thesis\\\\PRData\")\n",
    "data = {}\n",
    "datac = []\n",
    "print(datac)\n",
    "for i in range(0,60):\n",
    "    try:\n",
    "        f = p / f\"PR_LOD_4_0.001_{i}.csv\"\n",
    "        data[i]=pd.read_csv(f)\n",
    "        c = data[i][\"percentRank\"].iloc[-1]\n",
    "        datac.append(c)\n",
    "    except IOError:\n",
    "       pass\n",
    "\n",
    "# df = pd.concat(data)\n",
    "df4_001=datac\n"
   ]
  },
  {
   "cell_type": "code",
   "execution_count": 27,
   "metadata": {},
   "outputs": [
    {
     "name": "stdout",
     "output_type": "stream",
     "text": [
      "[]\n"
     ]
    }
   ],
   "source": [
    "\n",
    "p = Path(r\"C:\\\\Users\\\\makn0023\\\\Desktop\\\\Thesis\\\\PRData\")\n",
    "data = {}\n",
    "datac=[]\n",
    "print(datac)\n",
    "for i in range(0,60):\n",
    "    try:\n",
    "        f = p / f\"PR_LOD_4_0.01_{i}.csv\"\n",
    "        data[i]=pd.read_csv(f)\n",
    "        c = data[i][\"percentRank\"].iloc[-1]\n",
    "        datac.append(c)\n",
    "    except IOError:\n",
    "       pass\n",
    "\n",
    "# df = pd.concat(data)\n",
    "df4_01=datac\n"
   ]
  },
  {
   "cell_type": "code",
   "execution_count": 28,
   "metadata": {},
   "outputs": [
    {
     "name": "stdout",
     "output_type": "stream",
     "text": [
      "[]\n"
     ]
    }
   ],
   "source": [
    "\n",
    "p = Path(r\"C:\\\\Users\\\\makn0023\\\\Desktop\\\\Thesis\\\\PRData\")\n",
    "data = {}\n",
    "datac=[]\n",
    "print(datac)\n",
    "for i in range(0,60):\n",
    "    try:\n",
    "        f = p / f\"PR_LOD_4_0.1_{i}.csv\"\n",
    "        data[i]=pd.read_csv(f)\n",
    "        c = data[i][\"percentRank\"].iloc[-1]\n",
    "        datac.append(c)\n",
    "    except IOError:\n",
    "       pass\n",
    "\n",
    "# df = pd.concat(data)\n",
    "df4_1=datac"
   ]
  },
  {
   "cell_type": "code",
   "execution_count": 29,
   "metadata": {},
   "outputs": [
    {
     "name": "stdout",
     "output_type": "stream",
     "text": [
      "[]\n"
     ]
    }
   ],
   "source": [
    "\n",
    "p = Path(r\"C:\\\\Users\\\\makn0023\\\\Desktop\\\\Thesis\\\\PRData\")\n",
    "data = {}\n",
    "datac=[]\n",
    "print(datac)\n",
    "for i in range(0,60):\n",
    "    try:\n",
    "        f = p / f\"PR_LOD_4_0.0_{i}.csv\"\n",
    "        data[i]=pd.read_csv(f)\n",
    "        c = data[i][\"percentRank\"].iloc[-1]\n",
    "        datac.append(c)\n",
    "    except IOError:\n",
    "       pass\n",
    "\n",
    "# df = pd.concat(data)\n",
    "df4_0=datac"
   ]
  },
  {
   "cell_type": "code",
   "execution_count": 36,
   "metadata": {},
   "outputs": [
    {
     "name": "stderr",
     "output_type": "stream",
     "text": [
      "C:\\Users\\makn0023\\Anaconda3\\envs\\mlc\\lib\\site-packages\\ipykernel_launcher.py:7: UserWarning: FixedFormatter should only be used together with FixedLocator\n",
      "  import sys\n"
     ]
    },
    {
     "data": {
      "text/plain": [
       "[Text(1, 0, 'Direct Encoding'),\n",
       " Text(2, 0, 'GRN Encoding'),\n",
       " Text(3, 0, 'Hyper CPPN Encoding'),\n",
       " Text(4, 0, 'CPPN-GRN'),\n",
       " Text(5, 0, 'GRN-CPPN')]"
      ]
     },
     "execution_count": 36,
     "metadata": {},
     "output_type": "execute_result"
    },
    {
     "data": {
      "image/png": "[encoded data removed]",
      "text/plain": [
       "<Figure size 720x1296 with 5 Axes>"
      ]
     },
     "metadata": {
      "needs_background": "light"
     },
     "output_type": "display_data"
    }
   ],
   "source": [
    "figsize=(10,18)\n",
    "data1 = [df0_0001, df1_0001,df2_0001,df3_0001,df4_0001]\n",
    "fig1, ax = plt.subplots(5, 1, figsize=figsize, constrained_layout=True) \n",
    "# fig1.tight_layout()\n",
    "# ax[0].set_title('Direct Encoding        GRN Encoding  Hyper CPPN Encoding      CPPN-GRN             GRN-CPPN        ')\n",
    "ax[0].set_ylim([0, 1.2])\n",
    "ax[0].set_xticklabels(['Direct Encoding','GRN Encoding','Hyper CPPN Encoding','CPPN-GRN','GRN-CPPN'])\n",
    "ax[0].set_title('0.0001', fontsize=12)\n",
    "ax[0].boxplot(data1)\n",
    "\n",
    "ax[1].set_ylim([0, 1.2])\n",
    "ax[1].set_title('0.001', fontsize=12)\n",
    "data2 = [df0_001, df1_001,df2_001,df3_001,df4_001]\n",
    "ax[1].boxplot(data2)\n",
    "ax[1].set_xticklabels(['Direct Encoding','GRN Encoding','Hyper CPPN Encoding','CPPN-GRN','GRN-CPPN'])\n",
    "\n",
    "ax[2].set_ylim([0, 1.2])\n",
    "ax[2].set_title('0.01', fontsize=12)\n",
    "data3 = [df0_01, df1_01,df2_01,df3_01,df4_01]\n",
    "ax[2].boxplot(data3)\n",
    "ax[2].set_xticklabels(['Direct Encoding','GRN Encoding','Hyper CPPN Encoding','CPPN-GRN','GRN-CPPN'])\n",
    "\n",
    "ax[3].set_ylim([0, 1.2])\n",
    "ax[3].set_title('0.1', fontsize=12)\n",
    "data4 = [df0_1, df1_1,df2_1,df3_1,df4_1]\n",
    "ax[3].boxplot(data4)\n",
    "ax[3].set_xticklabels(['Direct Encoding','GRN Encoding','Hyper CPPN Encoding','CPPN-GRN','GRN-CPPN'])\n",
    "# print(data)\n",
    "\n",
    "ax[4].set_ylim([0, 1.2])\n",
    "ax[4].set_title('0.0', fontsize=12)\n",
    "data5 = [df0_0, df1_0,df2_0,df3_0,df4_0]\n",
    "ax[4].boxplot(data5)\n",
    "ax[4].set_xticklabels(['Direct Encoding','GRN Encoding','Hyper CPPN Encoding','CPPN-GRN','GRN-CPPN'])"
   ]
  },
  {
   "cell_type": "code",
   "execution_count": 24,
   "metadata": {},
   "outputs": [],
   "source": [
    "# p = Path(r\"C:\\\\Users\\\\makn0023\\\\Desktop\\\\Thesis\\\\PRData\")\n",
    "# data = {}\n",
    "# datac = []\n",
    "# for i in range(0,30):\n",
    "#     try:\n",
    "#         f = p / f\"PR_LOD_4_0.001_{i}.csv\"\n",
    "#         print(f)\n",
    "#         data[i]=pd.read_csv(f)\n",
    "# #         print(len(data))\n",
    "#         c = data[i][\"percentRank\"].iloc[-1]\n",
    "#         datac.append(c)\n",
    "#         print(c)\n",
    "#     except IOError:\n",
    "#        pass\n",
    "# print(datac)\n",
    "# # df = pd.concat(data)\n",
    "# df4_001=datac"
   ]
  },
  {
   "cell_type": "code",
   "execution_count": 25,
   "metadata": {},
   "outputs": [
    {
     "data": {
      "text/plain": [
       "[0.696441650390625,\n",
       " 0.708953857421875,\n",
       " 0.9365692138671876,\n",
       " 0.268707275390625,\n",
       " 0.7681884765625,\n",
       " 0.675201416015625,\n",
       " 0.947052001953125,\n",
       " 0.9970855712890624,\n",
       " 0.998687744140625,\n",
       " 0.5339202880859375]"
      ]
     },
     "execution_count": 25,
     "metadata": {},
     "output_type": "execute_result"
    }
   ],
   "source": [
    "df4_001"
   ]
  },
  {
   "cell_type": "code",
   "execution_count": 26,
   "metadata": {},
   "outputs": [],
   "source": [
    "d0000 = list(df0_0001)\n",
    "d1000 = list(df1_0001)\n",
    "d2000 = list(df2_0001)\n",
    "d3000 = list(df3_0001)\n",
    "d4000 = list(df4_0001)"
   ]
  },
  {
   "cell_type": "code",
   "execution_count": 27,
   "metadata": {},
   "outputs": [
    {
     "name": "stdout",
     "output_type": "stream",
     "text": [
      "KstestResult(statistic=0.5454545454545454, pvalue=0.5384615384615384)\n",
      "KstestResult(statistic=0.22727272727272727, pvalue=0.9285544177185044)\n",
      "KstestResult(statistic=0.3939393939393939, pvalue=0.1824211665133305)\n",
      "KstestResult(statistic=0.2840909090909091, pvalue=0.7344870471805456)\n"
     ]
    }
   ],
   "source": [
    "print(stats.ks_2samp(d1000, d3000))\n",
    "print(stats.ks_2samp(d1000, d4000))\n",
    "print(stats.ks_2samp(d1000, d2000))\n",
    "print(stats.ks_2samp(d1000, d0000))"
   ]
  },
  {
   "cell_type": "code",
   "execution_count": 28,
   "metadata": {},
   "outputs": [],
   "source": [
    "d000 = list(df0_001)\n",
    "d100 = list(df1_001)\n",
    "d200 = list(df2_001)\n",
    "d300 = list(df3_001)\n",
    "d400 = list(df4_001)"
   ]
  },
  {
   "cell_type": "code",
   "execution_count": 29,
   "metadata": {},
   "outputs": [
    {
     "data": {
      "text/plain": [
       "[0.696441650390625,\n",
       " 0.708953857421875,\n",
       " 0.9365692138671876,\n",
       " 0.268707275390625,\n",
       " 0.7681884765625,\n",
       " 0.675201416015625,\n",
       " 0.947052001953125,\n",
       " 0.9970855712890624,\n",
       " 0.998687744140625,\n",
       " 0.5339202880859375]"
      ]
     },
     "execution_count": 29,
     "metadata": {},
     "output_type": "execute_result"
    }
   ],
   "source": [
    "d400"
   ]
  },
  {
   "cell_type": "code",
   "execution_count": 31,
   "metadata": {
    "scrolled": true
   },
   "outputs": [
    {
     "name": "stdout",
     "output_type": "stream",
     "text": [
      "9\n",
      "10\n"
     ]
    }
   ],
   "source": [
    "print(len(d100))\n",
    "print(len(d400))"
   ]
  },
  {
   "cell_type": "code",
   "execution_count": 32,
   "metadata": {},
   "outputs": [
    {
     "name": "stdout",
     "output_type": "stream",
     "text": [
      "KstestResult(statistic=0.2222222222222222, pvalue=0.926768278161467)\n",
      "KstestResult(statistic=0.2222222222222222, pvalue=0.9872127872127872)\n",
      "KstestResult(statistic=0.23809523809523808, pvalue=0.8004843731980165)\n",
      "KstestResult(statistic=0.2222222222222222, pvalue=0.9894693541752365)\n"
     ]
    }
   ],
   "source": [
    "print(stats.ks_2samp(d100, d400))\n",
    "print(stats.ks_2samp(d100, d300))\n",
    "print(stats.ks_2samp(d100, d200))\n",
    "print(stats.ks_2samp(d100, d000))"
   ]
  },
  {
   "cell_type": "code",
   "execution_count": 33,
   "metadata": {},
   "outputs": [],
   "source": [
    "d00 = list(df0_01)\n",
    "d10 = list(df1_01)\n",
    "d20 = list(df2_01)\n",
    "d30 = list(df3_01)\n",
    "d40 = list(df4_01)"
   ]
  },
  {
   "cell_type": "code",
   "execution_count": 34,
   "metadata": {},
   "outputs": [
    {
     "name": "stdout",
     "output_type": "stream",
     "text": [
      "KstestResult(statistic=0.22115384615384615, pvalue=0.6328922305563102)\n",
      "KstestResult(statistic=0.24175824175824176, pvalue=0.8247809949700939)\n",
      "KstestResult(statistic=0.4269230769230769, pvalue=0.0221724486135928)\n",
      "KstestResult(statistic=0.24358974358974358, pvalue=0.462545626888337)\n"
     ]
    }
   ],
   "source": [
    "print(stats.ks_2samp(d10, d40))\n",
    "print(stats.ks_2samp(d10, d30))\n",
    "print(stats.ks_2samp(d10, d00))\n",
    "print(stats.ks_2samp(d10, d20))"
   ]
  },
  {
   "cell_type": "code",
   "execution_count": 35,
   "metadata": {},
   "outputs": [],
   "source": [
    "d1 = list(df0_1)\n",
    "d2 = list(df1_1)\n",
    "d3 = list(df2_1)\n",
    "d4 = list(df3_1)\n",
    "d5 = list(df4_1)"
   ]
  },
  {
   "cell_type": "code",
   "execution_count": 36,
   "metadata": {},
   "outputs": [
    {
     "name": "stdout",
     "output_type": "stream",
     "text": [
      "KstestResult(statistic=0.22966507177033493, pvalue=0.7523240211396133)\n",
      "KstestResult(statistic=0.34868421052631576, pvalue=0.186490637970401)\n",
      "KstestResult(statistic=0.1868421052631579, pvalue=0.7958798248975741)\n",
      "KstestResult(statistic=0.33126934984520123, pvalue=0.21397803542021754)\n"
     ]
    }
   ],
   "source": [
    "print(stats.ks_2samp(d2, d4))\n",
    "print(stats.ks_2samp(d2, d5))\n",
    "print(stats.ks_2samp(d2, d1))\n",
    "print(stats.ks_2samp(d2, d3))"
   ]
  }
 ],
 "metadata": {
  "kernelspec": {
   "display_name": "Python 3",
   "language": "python",
   "name": "python3"
  },
  "language_info": {
   "codemirror_mode": {
    "name": "ipython",
    "version": 3
   },
   "file_extension": ".py",
   "mimetype": "text/x-python",
   "name": "python",
   "nbconvert_exporter": "python",
   "pygments_lexer": "ipython3",
   "version": "3.7.9"
  }
 },
 "nbformat": 4,
 "nbformat_minor": 4
}
