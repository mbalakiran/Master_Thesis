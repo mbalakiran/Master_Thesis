{
 "cells": [
  {
   "cell_type": "code",
   "execution_count": 13,
   "metadata": {},
   "outputs": [],
   "source": [
    "import pandas as pd\n",
    "import os\n",
    "import glob\n",
    "import numpy as np\n",
    "import itertools as IT\n",
    "import csv\n",
    "import csv as cv \n",
    "import matplotlib.pyplot as plt\n",
    "from pathlib import Path\n",
    "import tkinter\n",
    "import tkinter.filedialog\n",
    "from numpy import genfromtxt\n",
    "from pathlib import Path\n",
    "import torch\n",
    "import torchvision\n",
    "from pylab import *\n",
    "import pylab as p\n",
    "import itertools\n",
    "from itertools import product\n",
    "from collections import Counter\n",
    "from scipy import stats"
   ]
  },
  {
   "cell_type": "code",
   "execution_count": 2,
   "metadata": {},
   "outputs": [],
   "source": [
    "path = 'C:\\\\Users\\\\makn0023\\\\Desktop\\\\Thesis\\\\PRData'\n",
    "os.chdir(path)"
   ]
  },
  {
   "cell_type": "code",
   "execution_count": 3,
   "metadata": {},
   "outputs": [],
   "source": [
    "p = Path(r\"C:\\\\Users\\\\makn0023\\\\Desktop\\\\Thesis\\\\PRData\")\n",
    "data = {}\n",
    "for i in range(0,30):\n",
    "    try:\n",
    "        f = p / f\"PR_LOD_0_0.0001_{i}.csv\"\n",
    "        data[i]=pd.read_csv(f)\n",
    "    except IOError:\n",
    "       pass\n",
    "\n",
    "df = pd.concat(data)\n",
    "df0_0001=df.groupby(level=0).mean()\n",
    "\n",
    "p = Path(r\"C:\\\\Users\\\\makn0023\\\\Desktop\\\\Thesis\\\\PRData\")\n",
    "data = {}\n",
    "for i in range(0,30):\n",
    "    try:\n",
    "        f = p / f\"PR_LOD_0_0.001_{i}.csv\"\n",
    "        data[i]=pd.read_csv(f)\n",
    "    except IOError:\n",
    "       pass\n",
    "\n",
    "df = pd.concat(data)\n",
    "df0_001=df.groupby(level=0).mean()\n",
    "\n",
    "p = Path(r\"C:\\\\Users\\\\makn0023\\\\Desktop\\\\Thesis\\\\PRData\")\n",
    "data = {}\n",
    "for i in range(0,30):\n",
    "    try:\n",
    "        f = p / f\"PR_LOD_0_0.01_{i}.csv\"\n",
    "        data[i]=pd.read_csv(f)\n",
    "    except IOError:\n",
    "       pass\n",
    "\n",
    "df = pd.concat(data)\n",
    "df0_01=df.groupby(level=0).mean()\n",
    "\n",
    "p = Path(r\"C:\\\\Users\\\\makn0023\\\\Desktop\\\\Thesis\\\\PRData\")\n",
    "data = {}\n",
    "for i in range(0,30):\n",
    "    try:\n",
    "        f = p / f\"PR_LOD_0_0.1_{i}.csv\"\n",
    "        data[i]=pd.read_csv(f)\n",
    "    except IOError:\n",
    "       pass\n",
    "\n",
    "df = pd.concat(data)\n",
    "df0_1=df.groupby(level=0).mean()"
   ]
  },
  {
   "cell_type": "code",
   "execution_count": 5,
   "metadata": {},
   "outputs": [],
   "source": [
    "p = Path(r\"C:\\\\Users\\\\makn0023\\\\Desktop\\\\Thesis\\\\PRData\")\n",
    "data = {}\n",
    "for i in range(0,30):\n",
    "    try:\n",
    "        f = p / f\"PR_LOD_1_0.0001_{i}.csv\"\n",
    "        data[i]=pd.read_csv(f)\n",
    "    except IOError:\n",
    "       pass\n",
    "\n",
    "df = pd.concat(data)\n",
    "df1_0001=df.groupby(level=0).mean()\n",
    "\n",
    "p = Path(r\"C:\\\\Users\\\\makn0023\\\\Desktop\\\\Thesis\\\\PRData\")\n",
    "data = {}\n",
    "for i in range(0,30):\n",
    "    try:\n",
    "        f = p / f\"PR_LOD_1_0.001_{i}.csv\"\n",
    "        data[i]=pd.read_csv(f)\n",
    "    except IOError:\n",
    "       pass\n",
    "\n",
    "df = pd.concat(data)\n",
    "df1_001=df.groupby(level=0).mean()\n",
    "\n",
    "p = Path(r\"C:\\\\Users\\\\makn0023\\\\Desktop\\\\Thesis\\\\PRData\")\n",
    "data = {}\n",
    "for i in range(0,30):\n",
    "    try:\n",
    "        f = p / f\"PR_LOD_1_0.01_{i}.csv\"\n",
    "        data[i]=pd.read_csv(f)\n",
    "    except IOError:\n",
    "       pass\n",
    "\n",
    "df = pd.concat(data)\n",
    "df1_01=df.groupby(level=0).mean()\n",
    "\n",
    "p = Path(r\"C:\\\\Users\\\\makn0023\\\\Desktop\\\\Thesis\\\\PRData\")\n",
    "data = {}\n",
    "for i in range(0,30):\n",
    "    try:\n",
    "        f = p / f\"PR_LOD_1_0.1_{i}.csv\"\n",
    "        data[i]=pd.read_csv(f)\n",
    "    except IOError:\n",
    "       pass\n",
    "\n",
    "df = pd.concat(data)\n",
    "df1_1=df.groupby(level=0).mean()"
   ]
  },
  {
   "cell_type": "code",
   "execution_count": 6,
   "metadata": {},
   "outputs": [],
   "source": [
    "p = Path(r\"C:\\\\Users\\\\makn0023\\\\Desktop\\\\Thesis\\\\PRData\")\n",
    "data = {}\n",
    "for i in range(0,30):\n",
    "    try:\n",
    "        f = p / f\"PR_LOD_2_0.0001_{i}.csv\"\n",
    "        data[i]=pd.read_csv(f)\n",
    "    except IOError:\n",
    "       pass\n",
    "\n",
    "df = pd.concat(data)\n",
    "df2_0001=df.groupby(level=0).mean()\n",
    "\n",
    "p = Path(r\"C:\\\\Users\\\\makn0023\\\\Desktop\\\\Thesis\\\\PRData\")\n",
    "data = {}\n",
    "for i in range(0,30):\n",
    "    try:\n",
    "        f = p / f\"PR_LOD_2_0.001_{i}.csv\"\n",
    "        data[i]=pd.read_csv(f)\n",
    "    except IOError:\n",
    "       pass\n",
    "\n",
    "df = pd.concat(data)\n",
    "df2_001=df.groupby(level=0).mean()\n",
    "\n",
    "p = Path(r\"C:\\\\Users\\\\makn0023\\\\Desktop\\\\Thesis\\\\PRData\")\n",
    "data = {}\n",
    "for i in range(0,30):\n",
    "    try:\n",
    "        f = p / f\"PR_LOD_2_0.01_{i}.csv\"\n",
    "        data[i]=pd.read_csv(f)\n",
    "    except IOError:\n",
    "       pass\n",
    "\n",
    "df = pd.concat(data)\n",
    "df2_01=df.groupby(level=0).mean()\n",
    "\n",
    "p = Path(r\"C:\\\\Users\\\\makn0023\\\\Desktop\\\\Thesis\\\\PRData\")\n",
    "data = {}\n",
    "for i in range(0,30):\n",
    "    try:\n",
    "        f = p / f\"PR_LOD_2_0.1_{i}.csv\"\n",
    "        data[i]=pd.read_csv(f)\n",
    "    except IOError:\n",
    "       pass\n",
    "\n",
    "df = pd.concat(data)\n",
    "df2_1=df.groupby(level=0).mean()"
   ]
  },
  {
   "cell_type": "code",
   "execution_count": 7,
   "metadata": {},
   "outputs": [],
   "source": [
    "p = Path(r\"C:\\\\Users\\\\makn0023\\\\Desktop\\\\Thesis\\\\PRData\")\n",
    "data = {}\n",
    "for i in range(0,30):\n",
    "    try:\n",
    "        f = p / f\"PR_LOD_3_0.0001_{i}.csv\"\n",
    "        data[i]=pd.read_csv(f)\n",
    "    except IOError:\n",
    "       pass\n",
    "\n",
    "df = pd.concat(data)\n",
    "df3_0001=df.groupby(level=0).mean()\n",
    "\n",
    "p = Path(r\"C:\\\\Users\\\\makn0023\\\\Desktop\\\\Thesis\\\\PRData\")\n",
    "data = {}\n",
    "for i in range(0,30):\n",
    "    try:\n",
    "        f = p / f\"PR_LOD_3_0.001_{i}.csv\"\n",
    "        data[i]=pd.read_csv(f)\n",
    "    except IOError:\n",
    "       pass\n",
    "\n",
    "df = pd.concat(data)\n",
    "df3_001=df.groupby(level=0).mean()\n",
    "\n",
    "p = Path(r\"C:\\\\Users\\\\makn0023\\\\Desktop\\\\Thesis\\\\PRData\")\n",
    "data = {}\n",
    "for i in range(0,30):\n",
    "    try:\n",
    "        f = p / f\"PR_LOD_3_0.01_{i}.csv\"\n",
    "        data[i]=pd.read_csv(f)\n",
    "    except IOError:\n",
    "       pass\n",
    "\n",
    "df = pd.concat(data)\n",
    "df3_01=df.groupby(level=0).mean()\n",
    "\n",
    "p = Path(r\"C:\\\\Users\\\\makn0023\\\\Desktop\\\\Thesis\\\\PRData\")\n",
    "data = {}\n",
    "for i in range(0,30):\n",
    "    try:\n",
    "        f = p / f\"PR_LOD_3_0.1_{i}.csv\"\n",
    "        data[i]=pd.read_csv(f)\n",
    "    except IOError:\n",
    "       pass\n",
    "\n",
    "df = pd.concat(data)\n",
    "df3_1=df.groupby(level=0).mean()"
   ]
  },
  {
   "cell_type": "code",
   "execution_count": 8,
   "metadata": {},
   "outputs": [],
   "source": [
    "p = Path(r\"C:\\\\Users\\\\makn0023\\\\Desktop\\\\Thesis\\\\PRData\")\n",
    "data = {}\n",
    "for i in range(0,30):\n",
    "    try:\n",
    "        f = p / f\"PR_LOD_4_0.0001_{i}.csv\"\n",
    "        data[i]=pd.read_csv(f)\n",
    "    except IOError:\n",
    "       pass\n",
    "\n",
    "df = pd.concat(data)\n",
    "df4_0001=df.groupby(level=0).mean()\n",
    "\n",
    "p = Path(r\"C:\\\\Users\\\\makn0023\\\\Desktop\\\\Thesis\\\\PRData\")\n",
    "data = {}\n",
    "for i in range(0,30):\n",
    "    try:\n",
    "        f = p / f\"PR_LOD_4_0.001_{i}.csv\"\n",
    "        data[i]=pd.read_csv(f)\n",
    "    except IOError:\n",
    "       pass\n",
    "\n",
    "df = pd.concat(data)\n",
    "df4_001=df.groupby(level=0).mean()\n",
    "\n",
    "p = Path(r\"C:\\\\Users\\\\makn0023\\\\Desktop\\\\Thesis\\\\PRData\")\n",
    "data = {}\n",
    "for i in range(0,30):\n",
    "    try:\n",
    "        f = p / f\"PR_LOD_4_0.01_{i}.csv\"\n",
    "        data[i]=pd.read_csv(f)\n",
    "    except IOError:\n",
    "       pass\n",
    "\n",
    "df = pd.concat(data)\n",
    "df4_01=df.groupby(level=0).mean()\n",
    "\n",
    "p = Path(r\"C:\\\\Users\\\\makn0023\\\\Desktop\\\\Thesis\\\\PRData\")\n",
    "data = {}\n",
    "for i in range(0,30):\n",
    "    try:\n",
    "        f = p / f\"PR_LOD_4_0.1_{i}.csv\"\n",
    "        data[i]=pd.read_csv(f)\n",
    "    except IOError:\n",
    "       pass\n",
    "\n",
    "df = pd.concat(data)\n",
    "df4_1=df.groupby(level=0).mean()"
   ]
  },
  {
   "cell_type": "code",
   "execution_count": 9,
   "metadata": {
    "scrolled": false
   },
   "outputs": [
    {
     "data": {
      "text/plain": [
       "[<matplotlib.lines.Line2D at 0x18301446ec8>]"
      ]
     },
     "execution_count": 9,
     "metadata": {},
     "output_type": "execute_result"
    },
    {
     "data": {
      "image/png": "[encoded data removed]",
      "text/plain": [
       "<Figure size 1152x1152 with 20 Axes>"
      ]
     },
     "metadata": {
      "needs_background": "light"
     },
     "output_type": "display_data"
    }
   ],
   "source": [
    "figsize=(16,16)\n",
    "fig1, ax = plt.subplots(4, 5, figsize=figsize, constrained_layout=False)\n",
    "ax[0,0].set_title('Direct Encoding')\n",
    "ax[0,0].set_ylabel('0.0001', rotation=0, fontsize=12, labelpad=40)\n",
    "ax[0,0].set_ylim([0, 1.1])\n",
    "ax[0,0].set_xticks([])\n",
    "ax[0,0].set_xlabel('Generations')\n",
    "ax[0,0].plot(df0_0001[\"percentRank\"],'k.')\n",
    "\n",
    "ax[0,1].set_title('GRN Encoding')\n",
    "ax[0,1].set_ylim([0, 1.1])\n",
    "ax[0,1].set_xticks([])\n",
    "ax[0,1].set_xlabel('Generations')\n",
    "ax[0,1].plot(df1_0001[\"percentRank\"],'k.')\n",
    "\n",
    "ax[0,2].set_title('Hyper CPPN Encoding')\n",
    "ax[0,2].set_ylim([0, 1.1])\n",
    "ax[0,2].set_xticks([])\n",
    "ax[0,2].set_xlabel('Generations')\n",
    "ax[0,2].plot(df2_0001[\"percentRank\"],'k.')\n",
    "\n",
    "ax[0,3].set_title('CPPN - GRN')\n",
    "ax[0,3].set_ylim([0, 1.1])\n",
    "ax[0,3].set_xticks([])\n",
    "ax[0,3].set_xlabel('Generations')\n",
    "ax[0,3].plot(df3_0001[\"percentRank\"],'k.')\n",
    "\n",
    "ax[0,4].set_title('GRN - CPPN')\n",
    "ax[0,4].set_ylim([0, 1.1])\n",
    "ax[0,4].set_xticks([])\n",
    "ax[0,4].set_xlabel('Generations')\n",
    "ax[0,4].plot(df4_0001[\"percentRank\"],'k.')\n",
    "\n",
    "ax[1,0].set_ylabel('0.001', rotation=0, fontsize=12, labelpad=40)\n",
    "ax[1,0].set_ylim([0, 1.1])\n",
    "ax[1,0].set_xticks([])\n",
    "ax[1,0].set_xlabel('Generations')\n",
    "ax[1,0].plot(df0_001[\"percentRank\"],'k.')\n",
    "\n",
    "ax[1,1].set_ylim([0, 1.1])\n",
    "ax[1,1].set_xticks([])\n",
    "ax[1,1].set_xlabel('Generations')\n",
    "ax[1,1].plot(df1_001[\"percentRank\"],'k.')\n",
    "\n",
    "ax[1,2].set_ylim([0, 1.1])\n",
    "ax[1,2].set_xticks([])\n",
    "ax[1,2].set_xlabel('Generations')\n",
    "ax[1,2].plot(df2_001[\"percentRank\"],'k.')\n",
    "\n",
    "ax[1,3].set_ylim([0, 1.1])\n",
    "ax[1,3].set_xticks([])\n",
    "ax[1,3].set_xlabel('Generations')\n",
    "ax[1,3].plot(df3_001[\"percentRank\"],'k.')\n",
    "\n",
    "ax[1,4].set_ylim([0, 1.1])\n",
    "ax[1,4].set_xticks([])\n",
    "ax[1,4].set_xlabel('Generations')\n",
    "ax[1,4].plot(df4_001[\"percentRank\"],'k.')\n",
    "\n",
    "ax[2,0].set_ylabel('0.01', rotation=0, fontsize=12, labelpad=40)\n",
    "ax[2,0].set_ylim([0, 1.1])\n",
    "ax[2,0].set_xticks([])\n",
    "ax[2,0].set_xlabel('Generations')\n",
    "ax[2,0].plot(df0_01[\"percentRank\"],'k.')\n",
    "\n",
    "ax[2,1].set_ylim([0, 1.1])\n",
    "ax[2,1].set_xticks([])\n",
    "ax[2,1].set_xlabel('Generations')\n",
    "ax[2,1].plot(df1_01[\"percentRank\"],'k.')\n",
    "\n",
    "ax[2,2].set_ylim([0, 1.1])\n",
    "ax[2,2].set_xticks([])\n",
    "ax[2,2].set_xlabel('Generations')\n",
    "ax[2,2].plot(df2_01[\"percentRank\"],'k.')\n",
    "\n",
    "ax[2,3].set_ylim([0, 1.1])\n",
    "ax[2,3].set_xticks([])\n",
    "ax[2,3].set_xlabel('Generations')\n",
    "ax[2,3].plot(df3_01[\"percentRank\"],'k.')\n",
    "\n",
    "ax[2,4].set_ylim([0, 1.1])\n",
    "ax[2,4].set_xticks([])\n",
    "ax[2,4].set_xlabel('Generations')\n",
    "ax[2,4].plot(df4_01[\"percentRank\"],'k.')\n",
    "\n",
    "ax[3,0].set_ylabel('0.1', rotation=0, fontsize=12, labelpad=40)\n",
    "ax[3,0].set_ylim([0, 1.1])\n",
    "ax[3,0].set_xticks([])\n",
    "ax[3,0].set_xlabel('Generations')\n",
    "ax[3,0].plot(df0_1[\"percentRank\"],'k.')\n",
    "\n",
    "ax[3,1].set_ylim([0, 1.1])\n",
    "ax[3,1].set_xticks([])\n",
    "ax[3,1].set_xlabel('Generations')\n",
    "ax[3,1].plot(df1_1[\"percentRank\"],'k.')\n",
    "\n",
    "ax[3,2].set_ylim([0, 1.1])\n",
    "ax[3,2].set_xticks([])\n",
    "ax[3,2].set_xlabel('Generations')\n",
    "ax[3,2].plot(df2_1[\"percentRank\"],'k.')\n",
    "\n",
    "ax[3,3].set_ylim([0, 1.1])\n",
    "ax[3,3].set_xticks([])\n",
    "ax[3,3].set_xlabel('Generations')\n",
    "ax[3,3].plot(df3_1[\"percentRank\"],'k.')\n",
    "\n",
    "ax[3,4].set_ylim([0, 1.1])\n",
    "ax[3,4].set_xticks([])\n",
    "ax[3,4].set_xlabel('Generations')\n",
    "ax[3,4].plot(df4_1[\"percentRank\"],'k.')"
   ]
  },
  {
   "cell_type": "code",
   "execution_count": 26,
   "metadata": {
    "scrolled": false
   },
   "outputs": [
    {
     "name": "stderr",
     "output_type": "stream",
     "text": [
      "C:\\Users\\makn0023\\Anaconda3\\envs\\mlc\\lib\\site-packages\\ipykernel_launcher.py:6: UserWarning: FixedFormatter should only be used together with FixedLocator\n",
      "  \n"
     ]
    },
    {
     "data": {
      "text/plain": [
       "[Text(1, 0, 'Direct Encoding'),\n",
       " Text(2, 0, 'GRN Encoding'),\n",
       " Text(3, 0, 'Hyper CPPN Encoding'),\n",
       " Text(4, 0, 'CPPN-GRN'),\n",
       " Text(5, 0, 'GRN-CPPN')]"
      ]
     },
     "execution_count": 26,
     "metadata": {},
     "output_type": "execute_result"
    },
    {
     "data": {
      "image/png": "[encoded data removed]",
      "text/plain": [
       "<Figure size 720x1296 with 4 Axes>"
      ]
     },
     "metadata": {
      "needs_background": "light"
     },
     "output_type": "display_data"
    }
   ],
   "source": [
    "figsize=(10,18)\n",
    "data1 = [df0_0001[\"percentRank\"], df1_0001[\"percentRank\"],df2_0001[\"percentRank\"],df3_0001[\"percentRank\"],df4_0001[\"percentRank\"]]\n",
    "fig1, ax = plt.subplots(4, 1, figsize=figsize, constrained_layout=False) \n",
    "# ax[0].set_title('Direct Encoding        GRN Encoding  Hyper CPPN Encoding      CPPN-GRN             GRN-CPPN        ')\n",
    "ax[0].set_ylim([0.65, 0.9])\n",
    "ax[0].set_xticklabels(['Direct Encoding','GRN Encoding','Hyper CPPN Encoding','CPPN-GRN','GRN-CPPN'])\n",
    "ax[0].set_ylabel('0.0001', rotation=0, fontsize=12, labelpad=40)\n",
    "ax[0].boxplot(data1)\n",
    "\n",
    "ax[1].set_ylim([0.65, 0.9])\n",
    "ax[1].set_ylabel('0.001', rotation=0, fontsize=12, labelpad=40)\n",
    "data2 = [df0_001[\"percentRank\"], df1_001[\"percentRank\"],df2_001[\"percentRank\"],df3_001[\"percentRank\"],df4_001[\"percentRank\"]]\n",
    "ax[1].boxplot(data2)\n",
    "ax[1].set_xticklabels(['Direct Encoding','GRN Encoding','Hyper CPPN Encoding','CPPN-GRN','GRN-CPPN'])\n",
    "\n",
    "ax[2].set_ylim([0.65, 0.9])\n",
    "ax[2].set_ylabel('0.01', rotation=0, fontsize=12, labelpad=40)\n",
    "data3 = [df0_01[\"percentRank\"], df1_01[\"percentRank\"],df2_01[\"percentRank\"],df3_01[\"percentRank\"],df4_01[\"percentRank\"]]\n",
    "ax[2].boxplot(data3)\n",
    "ax[2].set_xticklabels(['Direct Encoding','GRN Encoding','Hyper CPPN Encoding','CPPN-GRN','GRN-CPPN'])\n",
    "\n",
    "ax[3].set_ylim([0.65, 0.9])\n",
    "ax[3].set_ylabel('0.1', rotation=0, fontsize=12, labelpad=40)\n",
    "data4 = [df0_1[\"percentRank\"], df1_1[\"percentRank\"],df2_1[\"percentRank\"],df3_1[\"percentRank\"],df4_1[\"percentRank\"]]\n",
    "ax[3].boxplot(data4)\n",
    "ax[3].set_xticklabels(['Direct Encoding','GRN Encoding','Hyper CPPN Encoding','CPPN-GRN','GRN-CPPN'])\n",
    "# print(data)"
   ]
  },
  {
   "cell_type": "code",
   "execution_count": 11,
   "metadata": {},
   "outputs": [],
   "source": [
    "d1 = list(df0_0001[\"percentRank\"])\n",
    "d2 = list(df1_0001[\"percentRank\"])\n",
    "d3 = list(df2_0001[\"percentRank\"])\n",
    "d4 = list(df3_0001[\"percentRank\"])\n",
    "d5 = list(df4_0001[\"percentRank\"])"
   ]
  },
  {
   "cell_type": "code",
   "execution_count": 14,
   "metadata": {},
   "outputs": [
    {
     "name": "stdout",
     "output_type": "stream",
     "text": [
      "KstestResult(statistic=0.9090909090909091, pvalue=0.07692307692307687)\n",
      "KstestResult(statistic=0.5454545454545454, pvalue=0.08150088645444675)\n",
      "KstestResult(statistic=1.0, pvalue=5.780799594568009e-08)\n",
      "KstestResult(statistic=0.9090909090909091, pvalue=0.00023815194093834702)\n"
     ]
    }
   ],
   "source": [
    "print(stats.ks_2samp(d2, d4))\n",
    "print(stats.ks_2samp(d2, d5))\n",
    "print(stats.ks_2samp(d2, d3))\n",
    "print(stats.ks_2samp(d2, d1))"
   ]
  },
  {
   "cell_type": "code",
   "execution_count": 19,
   "metadata": {},
   "outputs": [],
   "source": [
    "d1 = list(df0_001[\"percentRank\"])\n",
    "d2 = list(df1_001[\"percentRank\"])\n",
    "d3 = list(df2_001[\"percentRank\"])\n",
    "d4 = list(df3_001[\"percentRank\"])\n",
    "d5 = list(df4_001[\"percentRank\"])"
   ]
  },
  {
   "cell_type": "code",
   "execution_count": 20,
   "metadata": {},
   "outputs": [
    {
     "name": "stdout",
     "output_type": "stream",
     "text": [
      "KstestResult(statistic=0.9, pvalue=0.0002165017644893963)\n",
      "KstestResult(statistic=1.0, pvalue=0.0003996003996004083)\n",
      "KstestResult(statistic=1.0, pvalue=1.3979024471311163e-07)\n",
      "KstestResult(statistic=1.0, pvalue=4.11353352529823e-05)\n"
     ]
    }
   ],
   "source": [
    "print(stats.ks_2samp(d2, d5))\n",
    "print(stats.ks_2samp(d2, d4))\n",
    "print(stats.ks_2samp(d2, d3))\n",
    "print(stats.ks_2samp(d2, d1))"
   ]
  },
  {
   "cell_type": "code",
   "execution_count": 21,
   "metadata": {},
   "outputs": [],
   "source": [
    "d1 = list(df0_01[\"percentRank\"])\n",
    "d2 = list(df1_01[\"percentRank\"])\n",
    "d3 = list(df2_01[\"percentRank\"])\n",
    "d4 = list(df3_01[\"percentRank\"])\n",
    "d5 = list(df4_01[\"percentRank\"])"
   ]
  },
  {
   "cell_type": "code",
   "execution_count": 22,
   "metadata": {},
   "outputs": [
    {
     "name": "stdout",
     "output_type": "stream",
     "text": [
      "KstestResult(statistic=1.0, pvalue=1.2011391881117106e-11)\n",
      "KstestResult(statistic=1.0, pvalue=4.681595340283451e-07)\n",
      "KstestResult(statistic=1.0, pvalue=3.561595462997502e-13)\n",
      "KstestResult(statistic=1.0, pvalue=1.9425572261866364e-12)\n"
     ]
    }
   ],
   "source": [
    "print(stats.ks_2samp(d2, d5))\n",
    "print(stats.ks_2samp(d2, d4))\n",
    "print(stats.ks_2samp(d2, d1))\n",
    "print(stats.ks_2samp(d2, d3))"
   ]
  },
  {
   "cell_type": "code",
   "execution_count": 23,
   "metadata": {},
   "outputs": [],
   "source": [
    "d1 = list(df0_1[\"percentRank\"])\n",
    "d2 = list(df1_1[\"percentRank\"])\n",
    "d3 = list(df2_1[\"percentRank\"])\n",
    "d4 = list(df3_1[\"percentRank\"])\n",
    "d5 = list(df4_1[\"percentRank\"])"
   ]
  },
  {
   "cell_type": "code",
   "execution_count": 25,
   "metadata": {},
   "outputs": [
    {
     "name": "stdout",
     "output_type": "stream",
     "text": [
      "KstestResult(statistic=0.32057416267942584, pvalue=0.3749223190602501)\n",
      "KstestResult(statistic=1.0, pvalue=4.926197227916873e-10)\n",
      "KstestResult(statistic=1.0, pvalue=2.901767715002279e-11)\n",
      "KstestResult(statistic=1.0, pvalue=2.3262591852812875e-10)\n"
     ]
    }
   ],
   "source": [
    "print(stats.ks_2samp(d2, d4))\n",
    "print(stats.ks_2samp(d2, d5))\n",
    "print(stats.ks_2samp(d2, d1))\n",
    "print(stats.ks_2samp(d2, d3))"
   ]
  }
 ],
 "metadata": {
  "kernelspec": {
   "display_name": "Python 3",
   "language": "python",
   "name": "python3"
  },
  "language_info": {
   "codemirror_mode": {
    "name": "ipython",
    "version": 3
   },
   "file_extension": ".py",
   "mimetype": "text/x-python",
   "name": "python",
   "nbconvert_exporter": "python",
   "pygments_lexer": "ipython3",
   "version": "3.7.9"
  }
 },
 "nbformat": 4,
 "nbformat_minor": 4
}
